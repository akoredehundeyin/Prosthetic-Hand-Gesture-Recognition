{
 "cells": [
  {
   "cell_type": "markdown",
   "id": "86a1e0e4",
   "metadata": {},
   "source": [
    "# Importing petinent libraries"
   ]
  },
  {
   "cell_type": "code",
   "execution_count": 1,
   "id": "6f076ca7",
   "metadata": {},
   "outputs": [],
   "source": [
    "import os\n",
    "\n",
    "import pandas as pd\n",
    "import numpy as np\n",
    "import seaborn as sns\n",
    "from matplotlib import pyplot as plt\n",
    "\n",
    "import warnings\n",
    "warnings.filterwarnings(\"ignore\")\n",
    "\n",
    "from sklearn.preprocessing import StandardScaler, LabelEncoder\n",
    "from scipy.signal import butter, filtfilt\n",
    "from sklearn.model_selection import train_test_split, cross_val_score, cross_val_predict\n",
    "from sklearn.naive_bayes import GaussianNB\n",
    "from sklearn.neighbors import KNeighborsClassifier\n",
    "from sklearn.ensemble import RandomForestClassifier\n",
    "from xgboost import XGBClassifier\n",
    "from sklearn.svm import SVC\n",
    "from sklearn.model_selection import GridSearchCV\n",
    "from sklearn.metrics import classification_report, confusion_matrix\n",
    "from sklearn.metrics import accuracy_score, mean_squared_error, f1_score, precision_score, recall_score"
   ]
  },
  {
   "cell_type": "markdown",
   "id": "69a0731e",
   "metadata": {},
   "source": [
    "# Importing and storing the data"
   ]
  },
  {
   "cell_type": "code",
   "execution_count": 2,
   "id": "a62f1cd7",
   "metadata": {},
   "outputs": [],
   "source": [
    "#Setting the main folder path as a parent directory\n",
    "parent_folder = \"EMG_data_for_gestures-master\"\n",
    "master_data = []\n",
    "\n",
    "#Looping through the folders in the parent folder\n",
    "for child_folder in os.listdir(parent_folder):\n",
    "    child_folder_path = os.path.join(parent_folder, child_folder)\n",
    "    if os.path.isdir(child_folder_path):\n",
    "        #Extracting the subject from the child folder name\n",
    "        subject = child_folder.split(\"_\")[-1]\n",
    "        #Looping through the files in each child folder\n",
    "        for file in os.listdir(child_folder_path):\n",
    "            file_path = os.path.join(child_folder_path, file)\n",
    "            #Reading in the .txt files in the child folder\n",
    "            if file.endswith(\".txt\"):\n",
    "                df = pd.read_csv(file_path, delimiter=\"\\t\")\n",
    "                #Adding the subject column to the DataFrame\n",
    "                df['subject'] = subject\n",
    "                master_data.append(df)\n",
    "\n",
    "#Concatenating all the files into one main DataFrame\n",
    "gestures = pd.concat(master_data)"
   ]
  },
  {
   "cell_type": "markdown",
   "id": "4ee45bb4",
   "metadata": {},
   "source": [
    "# Exploratory Data Analysis"
   ]
  },
  {
   "cell_type": "markdown",
   "id": "94d66991",
   "metadata": {},
   "source": [
    "## Inspecting the data"
   ]
  },
  {
   "cell_type": "code",
   "execution_count": 3,
   "id": "b16566f8",
   "metadata": {},
   "outputs": [
    {
     "data": {
      "text/html": [
       "<div>\n",
       "<style scoped>\n",
       "    .dataframe tbody tr th:only-of-type {\n",
       "        vertical-align: middle;\n",
       "    }\n",
       "\n",
       "    .dataframe tbody tr th {\n",
       "        vertical-align: top;\n",
       "    }\n",
       "\n",
       "    .dataframe thead th {\n",
       "        text-align: right;\n",
       "    }\n",
       "</style>\n",
       "<table border=\"1\" class=\"dataframe\">\n",
       "  <thead>\n",
       "    <tr style=\"text-align: right;\">\n",
       "      <th></th>\n",
       "      <th>time</th>\n",
       "      <th>channel1</th>\n",
       "      <th>channel2</th>\n",
       "      <th>channel3</th>\n",
       "      <th>channel4</th>\n",
       "      <th>channel5</th>\n",
       "      <th>channel6</th>\n",
       "      <th>channel7</th>\n",
       "      <th>channel8</th>\n",
       "      <th>class</th>\n",
       "      <th>subject</th>\n",
       "    </tr>\n",
       "  </thead>\n",
       "  <tbody>\n",
       "    <tr>\n",
       "      <th>0</th>\n",
       "      <td>1</td>\n",
       "      <td>-0.00004</td>\n",
       "      <td>-0.00002</td>\n",
       "      <td>-0.00001</td>\n",
       "      <td>-0.00002</td>\n",
       "      <td>-0.00001</td>\n",
       "      <td>-0.00001</td>\n",
       "      <td>0.00002</td>\n",
       "      <td>-0.00001</td>\n",
       "      <td>0.0</td>\n",
       "      <td>03</td>\n",
       "    </tr>\n",
       "    <tr>\n",
       "      <th>1</th>\n",
       "      <td>4</td>\n",
       "      <td>-0.00004</td>\n",
       "      <td>-0.00002</td>\n",
       "      <td>-0.00001</td>\n",
       "      <td>-0.00002</td>\n",
       "      <td>-0.00001</td>\n",
       "      <td>-0.00001</td>\n",
       "      <td>0.00002</td>\n",
       "      <td>-0.00001</td>\n",
       "      <td>0.0</td>\n",
       "      <td>03</td>\n",
       "    </tr>\n",
       "    <tr>\n",
       "      <th>2</th>\n",
       "      <td>5</td>\n",
       "      <td>-0.00004</td>\n",
       "      <td>-0.00002</td>\n",
       "      <td>-0.00001</td>\n",
       "      <td>-0.00002</td>\n",
       "      <td>-0.00001</td>\n",
       "      <td>-0.00001</td>\n",
       "      <td>0.00002</td>\n",
       "      <td>-0.00001</td>\n",
       "      <td>0.0</td>\n",
       "      <td>03</td>\n",
       "    </tr>\n",
       "    <tr>\n",
       "      <th>3</th>\n",
       "      <td>6</td>\n",
       "      <td>-0.00004</td>\n",
       "      <td>-0.00002</td>\n",
       "      <td>-0.00001</td>\n",
       "      <td>-0.00002</td>\n",
       "      <td>-0.00001</td>\n",
       "      <td>-0.00001</td>\n",
       "      <td>0.00002</td>\n",
       "      <td>-0.00001</td>\n",
       "      <td>0.0</td>\n",
       "      <td>03</td>\n",
       "    </tr>\n",
       "    <tr>\n",
       "      <th>4</th>\n",
       "      <td>7</td>\n",
       "      <td>-0.00002</td>\n",
       "      <td>-0.00001</td>\n",
       "      <td>0.00000</td>\n",
       "      <td>0.00001</td>\n",
       "      <td>0.00000</td>\n",
       "      <td>-0.00001</td>\n",
       "      <td>-0.00002</td>\n",
       "      <td>0.00001</td>\n",
       "      <td>0.0</td>\n",
       "      <td>03</td>\n",
       "    </tr>\n",
       "  </tbody>\n",
       "</table>\n",
       "</div>"
      ],
      "text/plain": [
       "   time  channel1  channel2  channel3  channel4  channel5  channel6  channel7  \\\n",
       "0     1  -0.00004  -0.00002  -0.00001  -0.00002  -0.00001  -0.00001   0.00002   \n",
       "1     4  -0.00004  -0.00002  -0.00001  -0.00002  -0.00001  -0.00001   0.00002   \n",
       "2     5  -0.00004  -0.00002  -0.00001  -0.00002  -0.00001  -0.00001   0.00002   \n",
       "3     6  -0.00004  -0.00002  -0.00001  -0.00002  -0.00001  -0.00001   0.00002   \n",
       "4     7  -0.00002  -0.00001   0.00000   0.00001   0.00000  -0.00001  -0.00002   \n",
       "\n",
       "   channel8  class subject  \n",
       "0  -0.00001    0.0      03  \n",
       "1  -0.00001    0.0      03  \n",
       "2  -0.00001    0.0      03  \n",
       "3  -0.00001    0.0      03  \n",
       "4   0.00001    0.0      03  "
      ]
     },
     "execution_count": 3,
     "metadata": {},
     "output_type": "execute_result"
    }
   ],
   "source": [
    "#Checking data arrangement\n",
    "gestures.head()"
   ]
  },
  {
   "cell_type": "code",
   "execution_count": 4,
   "id": "bc7fa70a",
   "metadata": {},
   "outputs": [
    {
     "name": "stdout",
     "output_type": "stream",
     "text": [
      "⦿ Rows: 4237908\n",
      "⦿ Columns: 11\n"
     ]
    }
   ],
   "source": [
    "#Checking data dimensions\n",
    "print(f\"⦿ Rows: {gestures.shape[0]}\")\n",
    "print(f\"⦿ Columns: {gestures.shape[1]}\")"
   ]
  },
  {
   "cell_type": "code",
   "execution_count": 5,
   "id": "6da00e86",
   "metadata": {},
   "outputs": [
    {
     "data": {
      "text/html": [
       "<div>\n",
       "<style scoped>\n",
       "    .dataframe tbody tr th:only-of-type {\n",
       "        vertical-align: middle;\n",
       "    }\n",
       "\n",
       "    .dataframe tbody tr th {\n",
       "        vertical-align: top;\n",
       "    }\n",
       "\n",
       "    .dataframe thead th {\n",
       "        text-align: right;\n",
       "    }\n",
       "</style>\n",
       "<table border=\"1\" class=\"dataframe\">\n",
       "  <thead>\n",
       "    <tr style=\"text-align: right;\">\n",
       "      <th></th>\n",
       "      <th>count</th>\n",
       "      <th>mean</th>\n",
       "      <th>std</th>\n",
       "      <th>min</th>\n",
       "      <th>25%</th>\n",
       "      <th>50%</th>\n",
       "      <th>75%</th>\n",
       "      <th>max</th>\n",
       "    </tr>\n",
       "  </thead>\n",
       "  <tbody>\n",
       "    <tr>\n",
       "      <th>time</th>\n",
       "      <td>4237908.0</td>\n",
       "      <td>31136.891602</td>\n",
       "      <td>18680.791749</td>\n",
       "      <td>0.00000</td>\n",
       "      <td>15290.00000</td>\n",
       "      <td>30546.00000</td>\n",
       "      <td>45804.00000</td>\n",
       "      <td>97144.00000</td>\n",
       "    </tr>\n",
       "    <tr>\n",
       "      <th>channel1</th>\n",
       "      <td>4237908.0</td>\n",
       "      <td>-0.000008</td>\n",
       "      <td>0.000163</td>\n",
       "      <td>-0.00128</td>\n",
       "      <td>-0.00003</td>\n",
       "      <td>-0.00001</td>\n",
       "      <td>0.00002</td>\n",
       "      <td>0.00127</td>\n",
       "    </tr>\n",
       "    <tr>\n",
       "      <th>channel2</th>\n",
       "      <td>4237908.0</td>\n",
       "      <td>-0.000009</td>\n",
       "      <td>0.000119</td>\n",
       "      <td>-0.00128</td>\n",
       "      <td>-0.00004</td>\n",
       "      <td>-0.00001</td>\n",
       "      <td>0.00002</td>\n",
       "      <td>0.00127</td>\n",
       "    </tr>\n",
       "    <tr>\n",
       "      <th>channel3</th>\n",
       "      <td>4237908.0</td>\n",
       "      <td>-0.000010</td>\n",
       "      <td>0.000124</td>\n",
       "      <td>-0.00128</td>\n",
       "      <td>-0.00004</td>\n",
       "      <td>-0.00001</td>\n",
       "      <td>0.00003</td>\n",
       "      <td>0.00127</td>\n",
       "    </tr>\n",
       "    <tr>\n",
       "      <th>channel4</th>\n",
       "      <td>4237908.0</td>\n",
       "      <td>-0.000010</td>\n",
       "      <td>0.000226</td>\n",
       "      <td>-0.00128</td>\n",
       "      <td>-0.00006</td>\n",
       "      <td>-0.00001</td>\n",
       "      <td>0.00004</td>\n",
       "      <td>0.00127</td>\n",
       "    </tr>\n",
       "    <tr>\n",
       "      <th>channel5</th>\n",
       "      <td>4237908.0</td>\n",
       "      <td>-0.000016</td>\n",
       "      <td>0.000272</td>\n",
       "      <td>-0.00128</td>\n",
       "      <td>-0.00008</td>\n",
       "      <td>-0.00001</td>\n",
       "      <td>0.00005</td>\n",
       "      <td>0.00127</td>\n",
       "    </tr>\n",
       "    <tr>\n",
       "      <th>channel6</th>\n",
       "      <td>4237908.0</td>\n",
       "      <td>-0.000011</td>\n",
       "      <td>0.000215</td>\n",
       "      <td>-0.00128</td>\n",
       "      <td>-0.00006</td>\n",
       "      <td>-0.00001</td>\n",
       "      <td>0.00003</td>\n",
       "      <td>0.00127</td>\n",
       "    </tr>\n",
       "    <tr>\n",
       "      <th>channel7</th>\n",
       "      <td>4237908.0</td>\n",
       "      <td>-0.000009</td>\n",
       "      <td>0.000153</td>\n",
       "      <td>-0.00128</td>\n",
       "      <td>-0.00004</td>\n",
       "      <td>-0.00001</td>\n",
       "      <td>0.00002</td>\n",
       "      <td>0.00127</td>\n",
       "    </tr>\n",
       "    <tr>\n",
       "      <th>channel8</th>\n",
       "      <td>4237908.0</td>\n",
       "      <td>-0.000010</td>\n",
       "      <td>0.000172</td>\n",
       "      <td>-0.00128</td>\n",
       "      <td>-0.00003</td>\n",
       "      <td>-0.00001</td>\n",
       "      <td>0.00001</td>\n",
       "      <td>0.00127</td>\n",
       "    </tr>\n",
       "    <tr>\n",
       "      <th>class</th>\n",
       "      <td>4237907.0</td>\n",
       "      <td>1.265671</td>\n",
       "      <td>1.989693</td>\n",
       "      <td>0.00000</td>\n",
       "      <td>0.00000</td>\n",
       "      <td>0.00000</td>\n",
       "      <td>2.00000</td>\n",
       "      <td>7.00000</td>\n",
       "    </tr>\n",
       "  </tbody>\n",
       "</table>\n",
       "</div>"
      ],
      "text/plain": [
       "              count          mean           std      min          25%  \\\n",
       "time      4237908.0  31136.891602  18680.791749  0.00000  15290.00000   \n",
       "channel1  4237908.0     -0.000008      0.000163 -0.00128     -0.00003   \n",
       "channel2  4237908.0     -0.000009      0.000119 -0.00128     -0.00004   \n",
       "channel3  4237908.0     -0.000010      0.000124 -0.00128     -0.00004   \n",
       "channel4  4237908.0     -0.000010      0.000226 -0.00128     -0.00006   \n",
       "channel5  4237908.0     -0.000016      0.000272 -0.00128     -0.00008   \n",
       "channel6  4237908.0     -0.000011      0.000215 -0.00128     -0.00006   \n",
       "channel7  4237908.0     -0.000009      0.000153 -0.00128     -0.00004   \n",
       "channel8  4237908.0     -0.000010      0.000172 -0.00128     -0.00003   \n",
       "class     4237907.0      1.265671      1.989693  0.00000      0.00000   \n",
       "\n",
       "                  50%          75%          max  \n",
       "time      30546.00000  45804.00000  97144.00000  \n",
       "channel1     -0.00001      0.00002      0.00127  \n",
       "channel2     -0.00001      0.00002      0.00127  \n",
       "channel3     -0.00001      0.00003      0.00127  \n",
       "channel4     -0.00001      0.00004      0.00127  \n",
       "channel5     -0.00001      0.00005      0.00127  \n",
       "channel6     -0.00001      0.00003      0.00127  \n",
       "channel7     -0.00001      0.00002      0.00127  \n",
       "channel8     -0.00001      0.00001      0.00127  \n",
       "class         0.00000      2.00000      7.00000  "
      ]
     },
     "execution_count": 5,
     "metadata": {},
     "output_type": "execute_result"
    }
   ],
   "source": [
    "#checking data description\n",
    "gestures.describe().T"
   ]
  },
  {
   "cell_type": "code",
   "execution_count": 6,
   "id": "bb2edfff",
   "metadata": {},
   "outputs": [
    {
     "name": "stdout",
     "output_type": "stream",
     "text": [
      "<class 'pandas.core.frame.DataFrame'>\n",
      "Int64Index: 4237908 entries, 0 to 62680\n",
      "Data columns (total 11 columns):\n",
      " #   Column    Dtype  \n",
      "---  ------    -----  \n",
      " 0   time      int64  \n",
      " 1   channel1  float64\n",
      " 2   channel2  float64\n",
      " 3   channel3  float64\n",
      " 4   channel4  float64\n",
      " 5   channel5  float64\n",
      " 6   channel6  float64\n",
      " 7   channel7  float64\n",
      " 8   channel8  float64\n",
      " 9   class     float64\n",
      " 10  subject   object \n",
      "dtypes: float64(9), int64(1), object(1)\n",
      "memory usage: 388.0+ MB\n"
     ]
    }
   ],
   "source": [
    "#Checking data type\n",
    "gestures.info()"
   ]
  },
  {
   "cell_type": "code",
   "execution_count": 7,
   "id": "365e5b4b",
   "metadata": {},
   "outputs": [
    {
     "data": {
      "text/plain": [
       "time        0\n",
       "channel1    0\n",
       "channel2    0\n",
       "channel3    0\n",
       "channel4    0\n",
       "channel5    0\n",
       "channel6    0\n",
       "channel7    0\n",
       "channel8    0\n",
       "class       1\n",
       "subject     0\n",
       "dtype: int64"
      ]
     },
     "execution_count": 7,
     "metadata": {},
     "output_type": "execute_result"
    }
   ],
   "source": [
    "#Checking for null values\n",
    "gestures.isnull().sum()"
   ]
  },
  {
   "cell_type": "code",
   "execution_count": 8,
   "id": "18942f86",
   "metadata": {},
   "outputs": [],
   "source": [
    "#Dropping null values\n",
    "gestures = gestures.dropna(subset = [\"class\"])"
   ]
  },
  {
   "cell_type": "code",
   "execution_count": 9,
   "id": "5e6786e0",
   "metadata": {},
   "outputs": [
    {
     "name": "stdout",
     "output_type": "stream",
     "text": [
      "<class 'pandas.core.frame.DataFrame'>\n",
      "Int64Index: 4237907 entries, 0 to 62680\n",
      "Data columns (total 11 columns):\n",
      " #   Column    Dtype  \n",
      "---  ------    -----  \n",
      " 0   time      int64  \n",
      " 1   channel1  float64\n",
      " 2   channel2  float64\n",
      " 3   channel3  float64\n",
      " 4   channel4  float64\n",
      " 5   channel5  float64\n",
      " 6   channel6  float64\n",
      " 7   channel7  float64\n",
      " 8   channel8  float64\n",
      " 9   class     int64  \n",
      " 10  subject   object \n",
      "dtypes: float64(8), int64(2), object(1)\n",
      "memory usage: 388.0+ MB\n"
     ]
    }
   ],
   "source": [
    "#Converting class data type to int64\n",
    "gestures['class'] = gestures['class'].astype('int64')\n",
    "\n",
    "#Checking data type to confirm cange\n",
    "gestures.info()"
   ]
  },
  {
   "cell_type": "code",
   "execution_count": 10,
   "id": "e1c92957",
   "metadata": {},
   "outputs": [],
   "source": [
    "#Checking for duplicates\n",
    "duplicate_rows = gestures[gestures.duplicated(keep=False)]\n",
    "\n",
    "if gestures.duplicated().sum() > 0:\n",
    "    display(duplicate_rows)\n",
    "    print({gestures.duplicated().sum()})"
   ]
  },
  {
   "cell_type": "code",
   "execution_count": 11,
   "id": "5f64579c",
   "metadata": {},
   "outputs": [],
   "source": [
    "#Dropping duplicates\n",
    "gestures.drop_duplicates(inplace=True)"
   ]
  },
  {
   "cell_type": "code",
   "execution_count": 12,
   "id": "78b19ad3",
   "metadata": {
    "scrolled": false
   },
   "outputs": [
    {
     "data": {
      "image/png": "[encoded data removed]",
      "text/plain": [
       "<Figure size 1200x1000 with 1 Axes>"
      ]
     },
     "metadata": {},
     "output_type": "display_data"
    }
   ],
   "source": [
    "#Checking data distribution by class\n",
    "plt.figure(figsize=(12, 10))\n",
    "sns.countplot(x=\"class\", data=gestures, palette=\"Blues\")\n",
    "plt.title(\"Class Distribution\")\n",
    "plt.xlabel(\"Class\")\n",
    "plt.ylabel(\"Count\")\n",
    "\n",
    "plt.show()"
   ]
  },
  {
   "cell_type": "code",
   "execution_count": 13,
   "id": "95240632",
   "metadata": {},
   "outputs": [
    {
     "data": {
      "text/plain": [
       "time        0.210679\n",
       "channel1    0.035962\n",
       "channel2    0.070317\n",
       "channel3   -0.106766\n",
       "channel4    0.027530\n",
       "channel5   -0.015932\n",
       "channel6    0.073039\n",
       "channel7    0.063578\n",
       "channel8   -0.053711\n",
       "class       1.304621\n",
       "subject     0.043894\n",
       "dtype: float64"
      ]
     },
     "execution_count": 13,
     "metadata": {},
     "output_type": "execute_result"
    }
   ],
   "source": [
    "#Checking skew\n",
    "gestures.skew(axis=0)"
   ]
  },
  {
   "cell_type": "code",
   "execution_count": 14,
   "id": "dcaecd03",
   "metadata": {
    "scrolled": false
   },
   "outputs": [
    {
     "data": {
      "image/png": "[encoded data removed]",
      "text/plain": [
       "<Figure size 1200x1000 with 2 Axes>"
      ]
     },
     "metadata": {},
     "output_type": "display_data"
    }
   ],
   "source": [
    "#Checking correlation\n",
    "plt.figure(figsize=(12, 10))\n",
    "heatmap = sns.heatmap(gestures.corr(), annot=True, cmap=\"Blues\", fmt=\".2f\", square=True)\n",
    "plt.title('Feature Correlation')\n",
    "heatmap.set_yticklabels(heatmap.get_yticklabels(), rotation=0)\n",
    "\n",
    "plt.show()"
   ]
  },
  {
   "cell_type": "markdown",
   "id": "990d3642",
   "metadata": {},
   "source": [
    "# Data Preprocessing"
   ]
  },
  {
   "cell_type": "markdown",
   "id": "80ebf071",
   "metadata": {},
   "source": [
    "## Balancing the data"
   ]
  },
  {
   "cell_type": "code",
   "execution_count": 15,
   "id": "83f979db",
   "metadata": {},
   "outputs": [],
   "source": [
    "#Dropping time\n",
    "gestures = gestures.drop(\"time\", axis=1)"
   ]
  },
  {
   "cell_type": "code",
   "execution_count": 16,
   "id": "fa68efc9",
   "metadata": {},
   "outputs": [],
   "source": [
    "#Removing class 0 and class 7\n",
    "gestures = gestures[(gestures[\"class\"] != 0) & (gestures[\"class\"] != 7)]"
   ]
  },
  {
   "cell_type": "code",
   "execution_count": 17,
   "id": "e338fe3a",
   "metadata": {
    "scrolled": false
   },
   "outputs": [
    {
     "data": {
      "image/png": "[encoded data removed]",
      "text/plain": [
       "<Figure size 1200x1000 with 1 Axes>"
      ]
     },
     "metadata": {},
     "output_type": "display_data"
    }
   ],
   "source": [
    "#Checking new data distribution by class\n",
    "plt.figure(figsize=(12, 10))\n",
    "sns.countplot(x=\"class\", data=gestures, palette=\"Blues\")\n",
    "plt.title(\"Class Distribution\")\n",
    "plt.xlabel(\"Class\")\n",
    "plt.ylabel(\"Count\")\n",
    "\n",
    "plt.show()"
   ]
  },
  {
   "cell_type": "code",
   "execution_count": 18,
   "id": "d62311ed",
   "metadata": {},
   "outputs": [
    {
     "data": {
      "text/plain": [
       "(1499054, 10)"
      ]
     },
     "execution_count": 18,
     "metadata": {},
     "output_type": "execute_result"
    }
   ],
   "source": [
    "gestures.shape"
   ]
  },
  {
   "cell_type": "markdown",
   "id": "f894c2fb",
   "metadata": {},
   "source": [
    "## Scaling the data"
   ]
  },
  {
   "cell_type": "code",
   "execution_count": 19,
   "id": "7e6b9a4c",
   "metadata": {},
   "outputs": [
    {
     "data": {
      "text/html": [
       "<div>\n",
       "<style scoped>\n",
       "    .dataframe tbody tr th:only-of-type {\n",
       "        vertical-align: middle;\n",
       "    }\n",
       "\n",
       "    .dataframe tbody tr th {\n",
       "        vertical-align: top;\n",
       "    }\n",
       "\n",
       "    .dataframe thead th {\n",
       "        text-align: right;\n",
       "    }\n",
       "</style>\n",
       "<table border=\"1\" class=\"dataframe\">\n",
       "  <thead>\n",
       "    <tr style=\"text-align: right;\">\n",
       "      <th></th>\n",
       "      <th>channel1</th>\n",
       "      <th>channel2</th>\n",
       "      <th>channel3</th>\n",
       "      <th>channel4</th>\n",
       "      <th>channel5</th>\n",
       "      <th>channel6</th>\n",
       "      <th>channel7</th>\n",
       "      <th>channel8</th>\n",
       "      <th>class</th>\n",
       "      <th>subject</th>\n",
       "    </tr>\n",
       "  </thead>\n",
       "  <tbody>\n",
       "    <tr>\n",
       "      <th>1248</th>\n",
       "      <td>-0.062926</td>\n",
       "      <td>-0.002383</td>\n",
       "      <td>0.069748</td>\n",
       "      <td>0.073351</td>\n",
       "      <td>0.091926</td>\n",
       "      <td>0.087183</td>\n",
       "      <td>-0.00055</td>\n",
       "      <td>0.002182</td>\n",
       "      <td>1</td>\n",
       "      <td>03</td>\n",
       "    </tr>\n",
       "    <tr>\n",
       "      <th>1249</th>\n",
       "      <td>-0.062926</td>\n",
       "      <td>-0.002383</td>\n",
       "      <td>0.069748</td>\n",
       "      <td>0.073351</td>\n",
       "      <td>0.091926</td>\n",
       "      <td>0.087183</td>\n",
       "      <td>-0.00055</td>\n",
       "      <td>0.002182</td>\n",
       "      <td>1</td>\n",
       "      <td>03</td>\n",
       "    </tr>\n",
       "    <tr>\n",
       "      <th>1250</th>\n",
       "      <td>-0.062926</td>\n",
       "      <td>-0.002383</td>\n",
       "      <td>0.069748</td>\n",
       "      <td>0.073351</td>\n",
       "      <td>0.091926</td>\n",
       "      <td>0.087183</td>\n",
       "      <td>-0.00055</td>\n",
       "      <td>0.002182</td>\n",
       "      <td>1</td>\n",
       "      <td>03</td>\n",
       "    </tr>\n",
       "    <tr>\n",
       "      <th>1251</th>\n",
       "      <td>-0.062926</td>\n",
       "      <td>-0.002383</td>\n",
       "      <td>0.069748</td>\n",
       "      <td>0.073351</td>\n",
       "      <td>0.091926</td>\n",
       "      <td>0.087183</td>\n",
       "      <td>-0.00055</td>\n",
       "      <td>0.002182</td>\n",
       "      <td>1</td>\n",
       "      <td>03</td>\n",
       "    </tr>\n",
       "    <tr>\n",
       "      <th>1252</th>\n",
       "      <td>-0.062926</td>\n",
       "      <td>-0.002383</td>\n",
       "      <td>0.069748</td>\n",
       "      <td>0.073351</td>\n",
       "      <td>0.091926</td>\n",
       "      <td>0.087183</td>\n",
       "      <td>-0.00055</td>\n",
       "      <td>0.002182</td>\n",
       "      <td>1</td>\n",
       "      <td>03</td>\n",
       "    </tr>\n",
       "  </tbody>\n",
       "</table>\n",
       "</div>"
      ],
      "text/plain": [
       "      channel1  channel2  channel3  channel4  channel5  channel6  channel7  \\\n",
       "1248 -0.062926 -0.002383  0.069748  0.073351  0.091926  0.087183  -0.00055   \n",
       "1249 -0.062926 -0.002383  0.069748  0.073351  0.091926  0.087183  -0.00055   \n",
       "1250 -0.062926 -0.002383  0.069748  0.073351  0.091926  0.087183  -0.00055   \n",
       "1251 -0.062926 -0.002383  0.069748  0.073351  0.091926  0.087183  -0.00055   \n",
       "1252 -0.062926 -0.002383  0.069748  0.073351  0.091926  0.087183  -0.00055   \n",
       "\n",
       "      channel8  class subject  \n",
       "1248  0.002182      1      03  \n",
       "1249  0.002182      1      03  \n",
       "1250  0.002182      1      03  \n",
       "1251  0.002182      1      03  \n",
       "1252  0.002182      1      03  "
      ]
     },
     "execution_count": 19,
     "metadata": {},
     "output_type": "execute_result"
    }
   ],
   "source": [
    "#Creating a StandardScaler instance\n",
    "scaler = StandardScaler()\n",
    "\n",
    "#Selecting the columns to normalize\n",
    "columns_normalized = [\"channel1\", \"channel2\", \"channel3\", \"channel4\", \"channel5\", \n",
    "                     \"channel6\", \"channel7\", \"channel8\"]\n",
    "\n",
    "#Fitting the scaler on the columns to normalize\n",
    "scaler.fit(gestures[columns_normalized])\n",
    "\n",
    "#Transforming the columns to normalize\n",
    "gestures[columns_normalized] = scaler.transform(gestures[columns_normalized])\n",
    "\n",
    "#Inspecting Scaling effect\n",
    "gestures.head()"
   ]
  },
  {
   "cell_type": "markdown",
   "id": "a2de7fd6",
   "metadata": {},
   "source": [
    "## Positive Rectification"
   ]
  },
  {
   "cell_type": "code",
   "execution_count": 20,
   "id": "586a8ad4",
   "metadata": {},
   "outputs": [
    {
     "data": {
      "text/html": [
       "<div>\n",
       "<style scoped>\n",
       "    .dataframe tbody tr th:only-of-type {\n",
       "        vertical-align: middle;\n",
       "    }\n",
       "\n",
       "    .dataframe tbody tr th {\n",
       "        vertical-align: top;\n",
       "    }\n",
       "\n",
       "    .dataframe thead th {\n",
       "        text-align: right;\n",
       "    }\n",
       "</style>\n",
       "<table border=\"1\" class=\"dataframe\">\n",
       "  <thead>\n",
       "    <tr style=\"text-align: right;\">\n",
       "      <th></th>\n",
       "      <th>channel1</th>\n",
       "      <th>channel2</th>\n",
       "      <th>channel3</th>\n",
       "      <th>channel4</th>\n",
       "      <th>channel5</th>\n",
       "      <th>channel6</th>\n",
       "      <th>channel7</th>\n",
       "      <th>channel8</th>\n",
       "      <th>class</th>\n",
       "      <th>subject</th>\n",
       "    </tr>\n",
       "  </thead>\n",
       "  <tbody>\n",
       "    <tr>\n",
       "      <th>1248</th>\n",
       "      <td>0.062926</td>\n",
       "      <td>0.002383</td>\n",
       "      <td>0.069748</td>\n",
       "      <td>0.073351</td>\n",
       "      <td>0.091926</td>\n",
       "      <td>0.087183</td>\n",
       "      <td>0.00055</td>\n",
       "      <td>0.002182</td>\n",
       "      <td>1</td>\n",
       "      <td>03</td>\n",
       "    </tr>\n",
       "    <tr>\n",
       "      <th>1249</th>\n",
       "      <td>0.062926</td>\n",
       "      <td>0.002383</td>\n",
       "      <td>0.069748</td>\n",
       "      <td>0.073351</td>\n",
       "      <td>0.091926</td>\n",
       "      <td>0.087183</td>\n",
       "      <td>0.00055</td>\n",
       "      <td>0.002182</td>\n",
       "      <td>1</td>\n",
       "      <td>03</td>\n",
       "    </tr>\n",
       "    <tr>\n",
       "      <th>1250</th>\n",
       "      <td>0.062926</td>\n",
       "      <td>0.002383</td>\n",
       "      <td>0.069748</td>\n",
       "      <td>0.073351</td>\n",
       "      <td>0.091926</td>\n",
       "      <td>0.087183</td>\n",
       "      <td>0.00055</td>\n",
       "      <td>0.002182</td>\n",
       "      <td>1</td>\n",
       "      <td>03</td>\n",
       "    </tr>\n",
       "    <tr>\n",
       "      <th>1251</th>\n",
       "      <td>0.062926</td>\n",
       "      <td>0.002383</td>\n",
       "      <td>0.069748</td>\n",
       "      <td>0.073351</td>\n",
       "      <td>0.091926</td>\n",
       "      <td>0.087183</td>\n",
       "      <td>0.00055</td>\n",
       "      <td>0.002182</td>\n",
       "      <td>1</td>\n",
       "      <td>03</td>\n",
       "    </tr>\n",
       "    <tr>\n",
       "      <th>1252</th>\n",
       "      <td>0.062926</td>\n",
       "      <td>0.002383</td>\n",
       "      <td>0.069748</td>\n",
       "      <td>0.073351</td>\n",
       "      <td>0.091926</td>\n",
       "      <td>0.087183</td>\n",
       "      <td>0.00055</td>\n",
       "      <td>0.002182</td>\n",
       "      <td>1</td>\n",
       "      <td>03</td>\n",
       "    </tr>\n",
       "  </tbody>\n",
       "</table>\n",
       "</div>"
      ],
      "text/plain": [
       "      channel1  channel2  channel3  channel4  channel5  channel6  channel7  \\\n",
       "1248  0.062926  0.002383  0.069748  0.073351  0.091926  0.087183   0.00055   \n",
       "1249  0.062926  0.002383  0.069748  0.073351  0.091926  0.087183   0.00055   \n",
       "1250  0.062926  0.002383  0.069748  0.073351  0.091926  0.087183   0.00055   \n",
       "1251  0.062926  0.002383  0.069748  0.073351  0.091926  0.087183   0.00055   \n",
       "1252  0.062926  0.002383  0.069748  0.073351  0.091926  0.087183   0.00055   \n",
       "\n",
       "      channel8  class subject  \n",
       "1248  0.002182      1      03  \n",
       "1249  0.002182      1      03  \n",
       "1250  0.002182      1      03  \n",
       "1251  0.002182      1      03  \n",
       "1252  0.002182      1      03  "
      ]
     },
     "execution_count": 20,
     "metadata": {},
     "output_type": "execute_result"
    }
   ],
   "source": [
    "#Changing all values to absolute values to eliminate negatives\n",
    "gestures[columns_normalized] = np.abs(gestures[columns_normalized])\n",
    "\n",
    "#Inspecting Positive Rectification effect\n",
    "gestures.head()"
   ]
  },
  {
   "cell_type": "markdown",
   "id": "e0eb697a",
   "metadata": {},
   "source": [
    "## Filtrering"
   ]
  },
  {
   "cell_type": "code",
   "execution_count": 21,
   "id": "c83e9f40",
   "metadata": {
    "scrolled": true
   },
   "outputs": [
    {
     "data": {
      "text/html": [
       "<div>\n",
       "<style scoped>\n",
       "    .dataframe tbody tr th:only-of-type {\n",
       "        vertical-align: middle;\n",
       "    }\n",
       "\n",
       "    .dataframe tbody tr th {\n",
       "        vertical-align: top;\n",
       "    }\n",
       "\n",
       "    .dataframe thead th {\n",
       "        text-align: right;\n",
       "    }\n",
       "</style>\n",
       "<table border=\"1\" class=\"dataframe\">\n",
       "  <thead>\n",
       "    <tr style=\"text-align: right;\">\n",
       "      <th></th>\n",
       "      <th>channel1</th>\n",
       "      <th>channel2</th>\n",
       "      <th>channel3</th>\n",
       "      <th>channel4</th>\n",
       "      <th>channel5</th>\n",
       "      <th>channel6</th>\n",
       "      <th>channel7</th>\n",
       "      <th>channel8</th>\n",
       "      <th>class</th>\n",
       "      <th>subject</th>\n",
       "    </tr>\n",
       "  </thead>\n",
       "  <tbody>\n",
       "    <tr>\n",
       "      <th>1248</th>\n",
       "      <td>0.033121</td>\n",
       "      <td>0.026533</td>\n",
       "      <td>0.042812</td>\n",
       "      <td>0.028361</td>\n",
       "      <td>0.027969</td>\n",
       "      <td>0.019851</td>\n",
       "      <td>0.026702</td>\n",
       "      <td>0.020007</td>\n",
       "      <td>1</td>\n",
       "      <td>03</td>\n",
       "    </tr>\n",
       "    <tr>\n",
       "      <th>1249</th>\n",
       "      <td>0.033751</td>\n",
       "      <td>0.027028</td>\n",
       "      <td>0.043878</td>\n",
       "      <td>0.028848</td>\n",
       "      <td>0.028464</td>\n",
       "      <td>0.020254</td>\n",
       "      <td>0.027389</td>\n",
       "      <td>0.020600</td>\n",
       "      <td>1</td>\n",
       "      <td>03</td>\n",
       "    </tr>\n",
       "    <tr>\n",
       "      <th>1250</th>\n",
       "      <td>0.034378</td>\n",
       "      <td>0.027523</td>\n",
       "      <td>0.044949</td>\n",
       "      <td>0.029333</td>\n",
       "      <td>0.028957</td>\n",
       "      <td>0.020658</td>\n",
       "      <td>0.028079</td>\n",
       "      <td>0.021197</td>\n",
       "      <td>1</td>\n",
       "      <td>03</td>\n",
       "    </tr>\n",
       "    <tr>\n",
       "      <th>1251</th>\n",
       "      <td>0.035003</td>\n",
       "      <td>0.028018</td>\n",
       "      <td>0.046023</td>\n",
       "      <td>0.029816</td>\n",
       "      <td>0.029447</td>\n",
       "      <td>0.021064</td>\n",
       "      <td>0.028771</td>\n",
       "      <td>0.021799</td>\n",
       "      <td>1</td>\n",
       "      <td>03</td>\n",
       "    </tr>\n",
       "    <tr>\n",
       "      <th>1252</th>\n",
       "      <td>0.035623</td>\n",
       "      <td>0.028511</td>\n",
       "      <td>0.047101</td>\n",
       "      <td>0.030296</td>\n",
       "      <td>0.029936</td>\n",
       "      <td>0.021473</td>\n",
       "      <td>0.029465</td>\n",
       "      <td>0.022405</td>\n",
       "      <td>1</td>\n",
       "      <td>03</td>\n",
       "    </tr>\n",
       "  </tbody>\n",
       "</table>\n",
       "</div>"
      ],
      "text/plain": [
       "      channel1  channel2  channel3  channel4  channel5  channel6  channel7  \\\n",
       "1248  0.033121  0.026533  0.042812  0.028361  0.027969  0.019851  0.026702   \n",
       "1249  0.033751  0.027028  0.043878  0.028848  0.028464  0.020254  0.027389   \n",
       "1250  0.034378  0.027523  0.044949  0.029333  0.028957  0.020658  0.028079   \n",
       "1251  0.035003  0.028018  0.046023  0.029816  0.029447  0.021064  0.028771   \n",
       "1252  0.035623  0.028511  0.047101  0.030296  0.029936  0.021473  0.029465   \n",
       "\n",
       "      channel8  class subject  \n",
       "1248  0.020007      1      03  \n",
       "1249  0.020600      1      03  \n",
       "1250  0.021197      1      03  \n",
       "1251  0.021799      1      03  \n",
       "1252  0.022405      1      03  "
      ]
     },
     "execution_count": 21,
     "metadata": {},
     "output_type": "execute_result"
    }
   ],
   "source": [
    "#Defining the filter parameters\n",
    "#Filter order\n",
    "filter_order = 4\n",
    "\n",
    "#Sampling rate in Hz\n",
    "sampling_rate = 1000\n",
    "\n",
    "#Cut-off frequency\n",
    "cutoff_freq = 5\n",
    "\n",
    "#Calculating the normalized cut-off frequency\n",
    "nyquist_freq = sampling_rate / 2  #Nyquist frequency is defined as half of the sampling rate\n",
    "normalized_cutoff_freq = cutoff_freq / nyquist_freq\n",
    "\n",
    "#Selecting the columns to filter\n",
    "columns_to_filter = [f\"channel{i}\" for i in range(1, 9)]\n",
    "\n",
    "#Applying the Butterworth filter to the selected columns\n",
    "for column in columns_to_filter:\n",
    "    #Adding padding to the beginning and end of the input vector\n",
    "    pad_len = len(gestures[column])\n",
    "    padded_data = np.pad(gestures[column], (pad_len, pad_len), mode=\"constant\")\n",
    "    \n",
    "    #Creating the Butterworth filter coefficients\n",
    "    b, a = butter(filter_order, normalized_cutoff_freq, btype=\"low\", analog=False, output=\"ba\")\n",
    "    \n",
    "    #Applying the filter to the padded data\n",
    "    filtered_padded_data = filtfilt(b, a, padded_data)\n",
    "    \n",
    "    #Removing the filtered data from the padded data\n",
    "    filtered_data = filtered_padded_data[pad_len:-pad_len]\n",
    "    \n",
    "    #Replace the original column with the filtered data\n",
    "    gestures[column] = filtered_data\n",
    "\n",
    "#Inspecting the filtered data\n",
    "gestures.head()"
   ]
  },
  {
   "cell_type": "markdown",
   "id": "b28394db",
   "metadata": {},
   "source": [
    "## Sliding Window"
   ]
  },
  {
   "cell_type": "code",
   "execution_count": 22,
   "id": "b2bccd52",
   "metadata": {},
   "outputs": [
    {
     "data": {
      "text/html": [
       "<div>\n",
       "<style scoped>\n",
       "    .dataframe tbody tr th:only-of-type {\n",
       "        vertical-align: middle;\n",
       "    }\n",
       "\n",
       "    .dataframe tbody tr th {\n",
       "        vertical-align: top;\n",
       "    }\n",
       "\n",
       "    .dataframe thead th {\n",
       "        text-align: right;\n",
       "    }\n",
       "</style>\n",
       "<table border=\"1\" class=\"dataframe\">\n",
       "  <thead>\n",
       "    <tr style=\"text-align: right;\">\n",
       "      <th></th>\n",
       "      <th>channel1</th>\n",
       "      <th>channel2</th>\n",
       "      <th>channel3</th>\n",
       "      <th>channel4</th>\n",
       "      <th>channel5</th>\n",
       "      <th>channel6</th>\n",
       "      <th>channel7</th>\n",
       "      <th>channel8</th>\n",
       "      <th>class</th>\n",
       "      <th>subject</th>\n",
       "    </tr>\n",
       "  </thead>\n",
       "  <tbody>\n",
       "    <tr>\n",
       "      <th>1248</th>\n",
       "      <td>0.033121</td>\n",
       "      <td>0.026533</td>\n",
       "      <td>0.042812</td>\n",
       "      <td>0.028361</td>\n",
       "      <td>0.027969</td>\n",
       "      <td>0.019851</td>\n",
       "      <td>0.026702</td>\n",
       "      <td>0.020007</td>\n",
       "      <td>1</td>\n",
       "      <td>03</td>\n",
       "    </tr>\n",
       "    <tr>\n",
       "      <th>1249</th>\n",
       "      <td>0.033751</td>\n",
       "      <td>0.027028</td>\n",
       "      <td>0.043878</td>\n",
       "      <td>0.028848</td>\n",
       "      <td>0.028464</td>\n",
       "      <td>0.020254</td>\n",
       "      <td>0.027389</td>\n",
       "      <td>0.020600</td>\n",
       "      <td>1</td>\n",
       "      <td>03</td>\n",
       "    </tr>\n",
       "    <tr>\n",
       "      <th>1250</th>\n",
       "      <td>0.034378</td>\n",
       "      <td>0.027523</td>\n",
       "      <td>0.044949</td>\n",
       "      <td>0.029333</td>\n",
       "      <td>0.028957</td>\n",
       "      <td>0.020658</td>\n",
       "      <td>0.028079</td>\n",
       "      <td>0.021197</td>\n",
       "      <td>1</td>\n",
       "      <td>03</td>\n",
       "    </tr>\n",
       "    <tr>\n",
       "      <th>1251</th>\n",
       "      <td>0.035003</td>\n",
       "      <td>0.028018</td>\n",
       "      <td>0.046023</td>\n",
       "      <td>0.029816</td>\n",
       "      <td>0.029447</td>\n",
       "      <td>0.021064</td>\n",
       "      <td>0.028771</td>\n",
       "      <td>0.021799</td>\n",
       "      <td>1</td>\n",
       "      <td>03</td>\n",
       "    </tr>\n",
       "    <tr>\n",
       "      <th>1252</th>\n",
       "      <td>0.035623</td>\n",
       "      <td>0.028511</td>\n",
       "      <td>0.047101</td>\n",
       "      <td>0.030296</td>\n",
       "      <td>0.029936</td>\n",
       "      <td>0.021473</td>\n",
       "      <td>0.029465</td>\n",
       "      <td>0.022405</td>\n",
       "      <td>1</td>\n",
       "      <td>03</td>\n",
       "    </tr>\n",
       "  </tbody>\n",
       "</table>\n",
       "</div>"
      ],
      "text/plain": [
       "      channel1  channel2  channel3  channel4  channel5  channel6  channel7  \\\n",
       "1248  0.033121  0.026533  0.042812  0.028361  0.027969  0.019851  0.026702   \n",
       "1249  0.033751  0.027028  0.043878  0.028848  0.028464  0.020254  0.027389   \n",
       "1250  0.034378  0.027523  0.044949  0.029333  0.028957  0.020658  0.028079   \n",
       "1251  0.035003  0.028018  0.046023  0.029816  0.029447  0.021064  0.028771   \n",
       "1252  0.035623  0.028511  0.047101  0.030296  0.029936  0.021473  0.029465   \n",
       "\n",
       "      channel8  class subject  \n",
       "1248  0.020007      1      03  \n",
       "1249  0.020600      1      03  \n",
       "1250  0.021197      1      03  \n",
       "1251  0.021799      1      03  \n",
       "1252  0.022405      1      03  "
      ]
     },
     "execution_count": 22,
     "metadata": {},
     "output_type": "execute_result"
    }
   ],
   "source": [
    "#Setting the window size\n",
    "window_size = 200\n",
    "#Setting the slide length\n",
    "slide = 50\n",
    "\n",
    "#Initializing an empty list to store the windowed data\n",
    "windowed_data = []\n",
    "\n",
    "#Iterating over each subject in the gestures DataFrame\n",
    "for subject in gestures['subject'].unique():\n",
    "    #Filtering the data for the current subject\n",
    "    subject_data = gestures[gestures['subject'] == subject]\n",
    "    \n",
    "    #Calculating the number of windows based on the window size and slide length\n",
    "    num_windows = (len(subject_data) - window_size) // slide + 1\n",
    "    \n",
    "    #Iterating over each window\n",
    "    for i in range(num_windows):\n",
    "        #Calculating the start and end indices of the window\n",
    "        start_index = i * slide\n",
    "        end_index = start_index + window_size\n",
    "        \n",
    "        #Extracting the windowed data and assign the subject\n",
    "        window = subject_data.iloc[start_index:end_index]\n",
    "        window['subject'] = subject\n",
    "        \n",
    "        #Appending the windowed data to the windowed_data list\n",
    "        windowed_data.append(window)\n",
    "\n",
    "#Concatenating all the windowed data into the windows DataFrame\n",
    "windows = pd.concat(windowed_data)\n",
    "windows.head()"
   ]
  },
  {
   "cell_type": "code",
   "execution_count": 23,
   "id": "1a7eaca4",
   "metadata": {},
   "outputs": [
    {
     "name": "stdout",
     "output_type": "stream",
     "text": [
      "⦿ Rows: 5970800\n",
      "⦿ Columns: 10\n"
     ]
    }
   ],
   "source": [
    "#Checking data dimensions\n",
    "print(f\"⦿ Rows: {windows.shape[0]}\")\n",
    "print(f\"⦿ Columns: {windows.shape[1]}\")"
   ]
  },
  {
   "cell_type": "markdown",
   "id": "551dd2e9",
   "metadata": {},
   "source": [
    "## Features Extraction"
   ]
  },
  {
   "cell_type": "code",
   "execution_count": 24,
   "id": "0b8d734e",
   "metadata": {},
   "outputs": [],
   "source": [
    "#Define the features functions\n",
    "\n",
    "#Defining function for Mean Absolute Value\n",
    "def mav(data):\n",
    "    return np.mean(np.abs(data))\n",
    "\n",
    "#Defining function for Root Mean Square\n",
    "def rms(data):\n",
    "    return np.sqrt(np.mean(data ** 2))\n",
    "\n",
    "#Defining function for Signal Slope Change\n",
    "def ssc(data):\n",
    "    differences = np.diff(data)\n",
    "    return np.sum(differences)\n",
    "\n",
    "#Defining function for Wave Length\n",
    "def wave_length(data):\n",
    "    return np.sum(np.abs(np.diff(data)))\n",
    "\n",
    "#Defining function for Hjorth Activity\n",
    "def hjorth_activity(data):\n",
    "    return np.var(data)\n",
    "\n",
    "#Defining function for Hjorth Mobility\n",
    "def hjorth_mobility(data):\n",
    "    diff = np.diff(data)\n",
    "    var = np.var(diff)\n",
    "    return np.sqrt(var / np.var(data))\n",
    "\n",
    "#Defining function for Hjorth Complexity\n",
    "def hjorth_complexity(data):\n",
    "    diff1 = np.diff(data)\n",
    "    diff2 = np.diff(diff1)\n",
    "    var1 = np.var(diff1)\n",
    "    var2 = np.var(diff2)\n",
    "    return np.sqrt(var2 / var1)\n",
    "\n",
    "#Defining feature extraction function\n",
    "def extract_features(data):\n",
    "    features = []\n",
    "    for i in range(8):#8 channels\n",
    "        channel_data = data[f'channel{i+1}']\n",
    "        channel_features = (rms(channel_data),\n",
    "                            ssc(channel_data),\n",
    "                            mav(channel_data),\n",
    "                            wave_length(channel_data),\n",
    "                            hjorth_activity(channel_data),\n",
    "                            hjorth_mobility(channel_data),\n",
    "                            hjorth_complexity(channel_data))\n",
    "        features.extend(channel_features)\n",
    "    return features"
   ]
  },
  {
   "cell_type": "code",
   "execution_count": 25,
   "id": "01172bb0",
   "metadata": {},
   "outputs": [
    {
     "data": {
      "text/html": [
       "<div>\n",
       "<style scoped>\n",
       "    .dataframe tbody tr th:only-of-type {\n",
       "        vertical-align: middle;\n",
       "    }\n",
       "\n",
       "    .dataframe tbody tr th {\n",
       "        vertical-align: top;\n",
       "    }\n",
       "\n",
       "    .dataframe thead th {\n",
       "        text-align: right;\n",
       "    }\n",
       "</style>\n",
       "<table border=\"1\" class=\"dataframe\">\n",
       "  <thead>\n",
       "    <tr style=\"text-align: right;\">\n",
       "      <th></th>\n",
       "      <th>class</th>\n",
       "      <th>feature1</th>\n",
       "      <th>feature2</th>\n",
       "      <th>feature3</th>\n",
       "      <th>feature4</th>\n",
       "      <th>feature5</th>\n",
       "      <th>feature6</th>\n",
       "      <th>feature7</th>\n",
       "      <th>feature8</th>\n",
       "      <th>feature9</th>\n",
       "      <th>...</th>\n",
       "      <th>feature47</th>\n",
       "      <th>feature48</th>\n",
       "      <th>feature49</th>\n",
       "      <th>feature50</th>\n",
       "      <th>feature51</th>\n",
       "      <th>feature52</th>\n",
       "      <th>feature53</th>\n",
       "      <th>feature54</th>\n",
       "      <th>feature55</th>\n",
       "      <th>feature56</th>\n",
       "    </tr>\n",
       "    <tr>\n",
       "      <th>subject</th>\n",
       "      <th></th>\n",
       "      <th></th>\n",
       "      <th></th>\n",
       "      <th></th>\n",
       "      <th></th>\n",
       "      <th></th>\n",
       "      <th></th>\n",
       "      <th></th>\n",
       "      <th></th>\n",
       "      <th></th>\n",
       "      <th></th>\n",
       "      <th></th>\n",
       "      <th></th>\n",
       "      <th></th>\n",
       "      <th></th>\n",
       "      <th></th>\n",
       "      <th></th>\n",
       "      <th></th>\n",
       "      <th></th>\n",
       "      <th></th>\n",
       "      <th></th>\n",
       "    </tr>\n",
       "  </thead>\n",
       "  <tbody>\n",
       "    <tr>\n",
       "      <th>01</th>\n",
       "      <td>1</td>\n",
       "      <td>0.084813</td>\n",
       "      <td>-0.208652</td>\n",
       "      <td>0.064192</td>\n",
       "      <td>32.455371</td>\n",
       "      <td>0.003221</td>\n",
       "      <td>0.201310</td>\n",
       "      <td>1.414389</td>\n",
       "      <td>0.156231</td>\n",
       "      <td>-0.006772</td>\n",
       "      <td>...</td>\n",
       "      <td>0.008932</td>\n",
       "      <td>0.206957</td>\n",
       "      <td>1.414802</td>\n",
       "      <td>0.063617</td>\n",
       "      <td>-0.152714</td>\n",
       "      <td>0.048215</td>\n",
       "      <td>25.604124</td>\n",
       "      <td>0.001799</td>\n",
       "      <td>0.198609</td>\n",
       "      <td>1.413597</td>\n",
       "    </tr>\n",
       "    <tr>\n",
       "      <th>02</th>\n",
       "      <td>1</td>\n",
       "      <td>0.062100</td>\n",
       "      <td>-0.310444</td>\n",
       "      <td>0.057770</td>\n",
       "      <td>12.638467</td>\n",
       "      <td>0.000536</td>\n",
       "      <td>0.131356</td>\n",
       "      <td>1.405190</td>\n",
       "      <td>0.129745</td>\n",
       "      <td>0.059259</td>\n",
       "      <td>...</td>\n",
       "      <td>0.007028</td>\n",
       "      <td>0.188234</td>\n",
       "      <td>1.414418</td>\n",
       "      <td>0.060523</td>\n",
       "      <td>-0.656899</td>\n",
       "      <td>0.051551</td>\n",
       "      <td>17.288622</td>\n",
       "      <td>0.001089</td>\n",
       "      <td>0.145976</td>\n",
       "      <td>1.402032</td>\n",
       "    </tr>\n",
       "    <tr>\n",
       "      <th>03</th>\n",
       "      <td>1</td>\n",
       "      <td>0.106453</td>\n",
       "      <td>0.731882</td>\n",
       "      <td>0.076865</td>\n",
       "      <td>35.928677</td>\n",
       "      <td>0.005486</td>\n",
       "      <td>0.190914</td>\n",
       "      <td>1.414188</td>\n",
       "      <td>0.231232</td>\n",
       "      <td>0.697824</td>\n",
       "      <td>...</td>\n",
       "      <td>0.013055</td>\n",
       "      <td>0.207114</td>\n",
       "      <td>1.413853</td>\n",
       "      <td>0.119815</td>\n",
       "      <td>0.908744</td>\n",
       "      <td>0.076916</td>\n",
       "      <td>42.150698</td>\n",
       "      <td>0.008752</td>\n",
       "      <td>0.192296</td>\n",
       "      <td>1.413395</td>\n",
       "    </tr>\n",
       "    <tr>\n",
       "      <th>04</th>\n",
       "      <td>1</td>\n",
       "      <td>0.117260</td>\n",
       "      <td>-0.432960</td>\n",
       "      <td>0.073402</td>\n",
       "      <td>40.021067</td>\n",
       "      <td>0.008688</td>\n",
       "      <td>0.188494</td>\n",
       "      <td>1.412944</td>\n",
       "      <td>0.144986</td>\n",
       "      <td>-0.074799</td>\n",
       "      <td>...</td>\n",
       "      <td>0.009339</td>\n",
       "      <td>0.200189</td>\n",
       "      <td>1.414643</td>\n",
       "      <td>0.080270</td>\n",
       "      <td>-0.129252</td>\n",
       "      <td>0.061122</td>\n",
       "      <td>26.767708</td>\n",
       "      <td>0.002840</td>\n",
       "      <td>0.173798</td>\n",
       "      <td>1.409902</td>\n",
       "    </tr>\n",
       "    <tr>\n",
       "      <th>05</th>\n",
       "      <td>1</td>\n",
       "      <td>0.057211</td>\n",
       "      <td>0.050554</td>\n",
       "      <td>0.052406</td>\n",
       "      <td>13.846928</td>\n",
       "      <td>0.000527</td>\n",
       "      <td>0.181280</td>\n",
       "      <td>1.413260</td>\n",
       "      <td>0.124607</td>\n",
       "      <td>-0.014390</td>\n",
       "      <td>...</td>\n",
       "      <td>0.004010</td>\n",
       "      <td>0.212796</td>\n",
       "      <td>1.412045</td>\n",
       "      <td>0.076341</td>\n",
       "      <td>-0.665761</td>\n",
       "      <td>0.051615</td>\n",
       "      <td>26.640797</td>\n",
       "      <td>0.003387</td>\n",
       "      <td>0.188330</td>\n",
       "      <td>1.412054</td>\n",
       "    </tr>\n",
       "  </tbody>\n",
       "</table>\n",
       "<p>5 rows × 57 columns</p>\n",
       "</div>"
      ],
      "text/plain": [
       "         class  feature1  feature2  feature3   feature4  feature5  feature6  \\\n",
       "subject                                                                       \n",
       "01           1  0.084813 -0.208652  0.064192  32.455371  0.003221  0.201310   \n",
       "02           1  0.062100 -0.310444  0.057770  12.638467  0.000536  0.131356   \n",
       "03           1  0.106453  0.731882  0.076865  35.928677  0.005486  0.190914   \n",
       "04           1  0.117260 -0.432960  0.073402  40.021067  0.008688  0.188494   \n",
       "05           1  0.057211  0.050554  0.052406  13.846928  0.000527  0.181280   \n",
       "\n",
       "         feature7  feature8  feature9  ...  feature47  feature48  feature49  \\\n",
       "subject                                ...                                    \n",
       "01       1.414389  0.156231 -0.006772  ...   0.008932   0.206957   1.414802   \n",
       "02       1.405190  0.129745  0.059259  ...   0.007028   0.188234   1.414418   \n",
       "03       1.414188  0.231232  0.697824  ...   0.013055   0.207114   1.413853   \n",
       "04       1.412944  0.144986 -0.074799  ...   0.009339   0.200189   1.414643   \n",
       "05       1.413260  0.124607 -0.014390  ...   0.004010   0.212796   1.412045   \n",
       "\n",
       "         feature50  feature51  feature52  feature53  feature54  feature55  \\\n",
       "subject                                                                     \n",
       "01        0.063617  -0.152714   0.048215  25.604124   0.001799   0.198609   \n",
       "02        0.060523  -0.656899   0.051551  17.288622   0.001089   0.145976   \n",
       "03        0.119815   0.908744   0.076916  42.150698   0.008752   0.192296   \n",
       "04        0.080270  -0.129252   0.061122  26.767708   0.002840   0.173798   \n",
       "05        0.076341  -0.665761   0.051615  26.640797   0.003387   0.188330   \n",
       "\n",
       "         feature56  \n",
       "subject             \n",
       "01        1.413597  \n",
       "02        1.402032  \n",
       "03        1.413395  \n",
       "04        1.409902  \n",
       "05        1.412054  \n",
       "\n",
       "[5 rows x 57 columns]"
      ]
     },
     "execution_count": 25,
     "metadata": {},
     "output_type": "execute_result"
    }
   ],
   "source": [
    "#Applying feature extraction to the windowed dataset\n",
    "extracted_feat = windows.groupby([\"class\", \"subject\"]).apply(extract_features).apply(pd.Series)\n",
    "\n",
    "#Reseting the index and renaming the columns\n",
    "extracted_feat.reset_index(level=\"class\",inplace=True)\n",
    "feature_columns = ['class'] + [f'feature{i+1}' for i in range(extracted_feat.shape[1]-1)]\n",
    "extracted_feat.columns = feature_columns\n",
    "\n",
    "#Inspecting the new DataFrame\n",
    "extracted_feat.head()"
   ]
  },
  {
   "cell_type": "code",
   "execution_count": 26,
   "id": "0c57e0ec",
   "metadata": {},
   "outputs": [
    {
     "name": "stdout",
     "output_type": "stream",
     "text": [
      "⦿ Rows: 216\n",
      "⦿ Columns: 57\n"
     ]
    }
   ],
   "source": [
    "#Checking data dimensions\n",
    "print(f\"⦿ Rows: {extracted_feat.shape[0]}\")\n",
    "print(f\"⦿ Columns: {extracted_feat.shape[1]}\")"
   ]
  },
  {
   "cell_type": "markdown",
   "id": "50e02a93",
   "metadata": {},
   "source": [
    "## Splitting the data"
   ]
  },
  {
   "cell_type": "code",
   "execution_count": 27,
   "id": "cba8e5bd",
   "metadata": {},
   "outputs": [],
   "source": [
    "#Dropping the class and time columns\n",
    "#Storing the remaining features in a new variable\n",
    "model_feat = extracted_feat.drop([\"class\"], axis=1)\n",
    "\n",
    "#Storing the class column in a new variable\n",
    "model_label = extracted_feat[\"class\"]"
   ]
  },
  {
   "cell_type": "code",
   "execution_count": 28,
   "id": "ba87530a",
   "metadata": {},
   "outputs": [],
   "source": [
    "#Splitting into training and testing sets\n",
    "x_train, x_test, y_train, y_test = train_test_split(model_feat, model_label, test_size=0.2, random_state=23)"
   ]
  },
  {
   "cell_type": "code",
   "execution_count": 29,
   "id": "177d6bc1",
   "metadata": {
    "scrolled": false
   },
   "outputs": [
    {
     "name": "stdout",
     "output_type": "stream",
     "text": [
      "Train Dataset:\n",
      " 1    0.180233\n",
      "2    0.162791\n",
      "3    0.145349\n",
      "4    0.162791\n",
      "5    0.180233\n",
      "6    0.168605\n",
      "Name: class, dtype: float64\n",
      "\n",
      "Test Dataset:\n",
      " 1    0.113636\n",
      "2    0.181818\n",
      "3    0.250000\n",
      "4    0.181818\n",
      "5    0.113636\n",
      "6    0.159091\n",
      "Name: class, dtype: float64\n"
     ]
    }
   ],
   "source": [
    "#Checking all dataset contains all 6 remaining classes\n",
    "print(f\"Train Dataset:\\n {y_train.value_counts(normalize=True).sort_index()}\\n\")\n",
    "print(f\"Test Dataset:\\n {y_test.value_counts(normalize=True).sort_index()}\")"
   ]
  },
  {
   "cell_type": "markdown",
   "id": "f6e9a259",
   "metadata": {},
   "source": [
    "# Modelling"
   ]
  },
  {
   "cell_type": "code",
   "execution_count": 30,
   "id": "77bbea63",
   "metadata": {},
   "outputs": [],
   "source": [
    "#Defining a function to display confusion matrix\n",
    "def plot_confusion_matrix(actual, predicted, classifier=\"\"):\n",
    "    #Getting labels from actual labels\n",
    "    labels = sorted(set(actual))\n",
    "    plt.rcParams[\"figure.figsize\"] = (18, 10)\n",
    "    \n",
    "    display = sns.heatmap(confusion_matrix(actual, predicted),cmap=\"Blues\", annot=True, fmt=\"d\")\n",
    "    display.set_xticklabels(labels, rotation=0, size=13)\n",
    "    display.set_yticklabels(labels, rotation=0, size=13)\n",
    "    \n",
    "    plt.title(classifier, fontsize=18)\n",
    "    plt.xlabel(\"Predicted Values\", size=15)\n",
    "    plt.ylabel(\"Actual Values\", size=15)\n",
    "    plt.show()"
   ]
  },
  {
   "cell_type": "markdown",
   "id": "2e374628",
   "metadata": {},
   "source": [
    "## Naive Bayes Classifier "
   ]
  },
  {
   "cell_type": "code",
   "execution_count": 31,
   "id": "a163ec49",
   "metadata": {},
   "outputs": [
    {
     "name": "stdout",
     "output_type": "stream",
     "text": [
      "Best Hyperparameters:\n",
      "{'priors': None, 'var_smoothing': 1e-09}\n"
     ]
    }
   ],
   "source": [
    "#Define the parameter grid for grid search\n",
    "param_grid = {\n",
    "    'var_smoothing': [1e-9, 1e-8, 1e-7],\n",
    "    'priors': [None, [0.2, 0.8], [0.5, 0.5]],\n",
    "}\n",
    "\n",
    "#Creating a Gaussian Naive Bayes model instance\n",
    "nb = GaussianNB()\n",
    "\n",
    "#Creating a GridSearchCV instance with the Naive Bayes model and parameter grid\n",
    "grid_search = GridSearchCV(nb, param_grid, cv=5, scoring=\"f1_macro\")\n",
    "\n",
    "#Fitting the model on the training data using grid search\n",
    "grid_search.fit(x_train, y_train)\n",
    "\n",
    "#Getting the best model with the optimized parameters\n",
    "best_nb = grid_search.best_estimator_\n",
    "\n",
    "#Printing the best hyperparameters selected for the best model\n",
    "print(\"Best Hyperparameters:\")\n",
    "print(grid_search.best_params_)"
   ]
  },
  {
   "cell_type": "code",
   "execution_count": 32,
   "id": "d1a32c97",
   "metadata": {},
   "outputs": [
    {
     "name": "stdout",
     "output_type": "stream",
     "text": [
      "              precision    recall  f1-score   support\n",
      "\n",
      "           1       1.00      1.00      1.00         5\n",
      "           2       0.83      0.62      0.71         8\n",
      "           3       1.00      0.73      0.84        11\n",
      "           4       0.80      1.00      0.89         8\n",
      "           5       0.80      0.80      0.80         5\n",
      "           6       0.70      1.00      0.82         7\n",
      "\n",
      "    accuracy                           0.84        44\n",
      "   macro avg       0.86      0.86      0.84        44\n",
      "weighted avg       0.86      0.84      0.84        44\n",
      "\n",
      "CPU times: user 8.77 ms, sys: 2.42 ms, total: 11.2 ms\n",
      "Wall time: 9.36 ms\n"
     ]
    }
   ],
   "source": [
    "%%time\n",
    "#Using the best model to predict the labels using the test set\n",
    "nb_pred = best_nb.predict(x_test)\n",
    "print(classification_report(y_test, nb_pred))"
   ]
  },
  {
   "cell_type": "code",
   "execution_count": 33,
   "id": "58c397a2",
   "metadata": {},
   "outputs": [
    {
     "data": {
      "image/png": "[encoded data removed]",
      "text/plain": [
       "<Figure size 1800x1000 with 2 Axes>"
      ]
     },
     "metadata": {},
     "output_type": "display_data"
    }
   ],
   "source": [
    "plot_confusion_matrix(y_test, nb_pred, \"Naive Bayes Classifier\")"
   ]
  },
  {
   "cell_type": "markdown",
   "id": "c0fb2423",
   "metadata": {},
   "source": [
    "## K-Nearest Neighbours Classifier"
   ]
  },
  {
   "cell_type": "code",
   "execution_count": 34,
   "id": "81bb6874",
   "metadata": {},
   "outputs": [
    {
     "name": "stdout",
     "output_type": "stream",
     "text": [
      "Best Hyperparameters:\n",
      "{'n_neighbors': 5, 'weights': 'distance'}\n"
     ]
    }
   ],
   "source": [
    "#Defining the parameter grid for grid search\n",
    "param_grid = {\n",
    "    'n_neighbors': [3, 5, 7],\n",
    "    'weights': ['uniform', 'distance'],\n",
    "}\n",
    "\n",
    "#Creating a k-Nearest Neighbors model instance\n",
    "knn = KNeighborsClassifier()\n",
    "\n",
    "#Creating a GridSearchCV instance with the k-Nearest Neighbors model and parameter grid\n",
    "grid_search = GridSearchCV(knn, param_grid, cv=5, scoring=\"f1_macro\")\n",
    "\n",
    "#Fitting the model on the training data using grid search\n",
    "grid_search.fit(x_train, y_train)\n",
    "\n",
    "#Getting the best model with the optimized parameters\n",
    "best_knn = grid_search.best_estimator_\n",
    "\n",
    "# Print the best hyperparameters selected for the best model\n",
    "print(\"Best Hyperparameters:\")\n",
    "print(grid_search.best_params_)"
   ]
  },
  {
   "cell_type": "code",
   "execution_count": 35,
   "id": "65420352",
   "metadata": {},
   "outputs": [
    {
     "name": "stdout",
     "output_type": "stream",
     "text": [
      "              precision    recall  f1-score   support\n",
      "\n",
      "           1       0.50      0.80      0.62         5\n",
      "           2       0.83      0.62      0.71         8\n",
      "           3       0.78      0.64      0.70        11\n",
      "           4       0.88      0.88      0.88         8\n",
      "           5       0.43      0.60      0.50         5\n",
      "           6       1.00      0.86      0.92         7\n",
      "\n",
      "    accuracy                           0.73        44\n",
      "   macro avg       0.74      0.73      0.72        44\n",
      "weighted avg       0.77      0.73      0.74        44\n",
      "\n",
      "CPU times: user 35.1 ms, sys: 14.8 ms, total: 49.9 ms\n",
      "Wall time: 9.34 ms\n"
     ]
    }
   ],
   "source": [
    "%%time\n",
    "#Using the best model to predict the labels using the test set\n",
    "knn_pred = best_knn.predict(x_test)\n",
    "print(classification_report(y_test, knn_pred))"
   ]
  },
  {
   "cell_type": "code",
   "execution_count": 36,
   "id": "99040754",
   "metadata": {},
   "outputs": [
    {
     "data": {
      "image/png": "[encoded data removed]",
      "text/plain": [
       "<Figure size 1800x1000 with 2 Axes>"
      ]
     },
     "metadata": {},
     "output_type": "display_data"
    }
   ],
   "source": [
    "plot_confusion_matrix(y_test, knn_pred, \"k-Nearest Neigbhors\")"
   ]
  },
  {
   "cell_type": "markdown",
   "id": "38f4d37b",
   "metadata": {},
   "source": [
    "## Random Forest Classifier"
   ]
  },
  {
   "cell_type": "code",
   "execution_count": 37,
   "id": "5b3c5c66",
   "metadata": {},
   "outputs": [
    {
     "name": "stdout",
     "output_type": "stream",
     "text": [
      "Best Hyperparameters:\n",
      "{'max_depth': None, 'n_estimators': 300}\n"
     ]
    }
   ],
   "source": [
    "#Defining the parameter grid for grid search\n",
    "param_grid = {\n",
    "    'n_estimators': [100, 200, 300],\n",
    "    'max_depth': [None, 5, 10],\n",
    "}\n",
    "\n",
    "#Creating a Random Forest Classifier model instance\n",
    "rfc = RandomForestClassifier()\n",
    "\n",
    "#Creating a GridSearchCV instance with the Random Forest Classifier model and parameter grid\n",
    "grid_search = GridSearchCV(rfc, param_grid, cv=5, scoring=\"f1_macro\")\n",
    "\n",
    "#Fitting the model on the training data using grid search\n",
    "grid_search.fit(x_train, y_train)\n",
    "\n",
    "#Getting the best model with the optimized parameters\n",
    "best_rfc = grid_search.best_estimator_\n",
    "\n",
    "# Print the best hyperparameters selected for the best model\n",
    "print(\"Best Hyperparameters:\")\n",
    "print(grid_search.best_params_)"
   ]
  },
  {
   "cell_type": "code",
   "execution_count": 38,
   "id": "f3b874f9",
   "metadata": {},
   "outputs": [
    {
     "name": "stdout",
     "output_type": "stream",
     "text": [
      "              precision    recall  f1-score   support\n",
      "\n",
      "           1       1.00      1.00      1.00         5\n",
      "           2       0.88      0.88      0.88         8\n",
      "           3       1.00      0.73      0.84        11\n",
      "           4       1.00      1.00      1.00         8\n",
      "           5       1.00      1.00      1.00         5\n",
      "           6       0.70      1.00      0.82         7\n",
      "\n",
      "    accuracy                           0.91        44\n",
      "   macro avg       0.93      0.93      0.92        44\n",
      "weighted avg       0.93      0.91      0.91        44\n",
      "\n",
      "CPU times: user 30.1 ms, sys: 2.55 ms, total: 32.7 ms\n",
      "Wall time: 30.1 ms\n"
     ]
    }
   ],
   "source": [
    "%%time\n",
    "#Using the best model to predict the labels using the test set\n",
    "rfc_pred = best_rfc.predict(x_test)\n",
    "print(classification_report(y_test, rfc_pred))"
   ]
  },
  {
   "cell_type": "code",
   "execution_count": 39,
   "id": "19021c4e",
   "metadata": {},
   "outputs": [
    {
     "data": {
      "image/png": "[encoded data removed]",
      "text/plain": [
       "<Figure size 1800x1000 with 2 Axes>"
      ]
     },
     "metadata": {},
     "output_type": "display_data"
    }
   ],
   "source": [
    "plot_confusion_matrix(y_test, rfc_pred, \"Random Forest Classifier\")"
   ]
  },
  {
   "cell_type": "markdown",
   "id": "4d8b6fcd",
   "metadata": {},
   "source": [
    "## Support Vector Classifier"
   ]
  },
  {
   "cell_type": "code",
   "execution_count": 40,
   "id": "7b9cdb43",
   "metadata": {},
   "outputs": [
    {
     "name": "stdout",
     "output_type": "stream",
     "text": [
      "Best Hyperparameters:\n",
      "{'C': 1, 'kernel': 'linear'}\n"
     ]
    }
   ],
   "source": [
    "#Defining the parameter grid for grid search\n",
    "param_grid = {\n",
    "    'C': [1, 10, 100],\n",
    "    'kernel': ['linear', 'rbf']\n",
    "}\n",
    "\n",
    "#Creating a Support Vector Classifier model instance\n",
    "svc = SVC()\n",
    "\n",
    "#Creating a GridSearchCV instance with the Support Vector Classifier model and parameter grid\n",
    "grid_search = GridSearchCV(svc, param_grid, cv=5, scoring=\"f1_macro\")\n",
    "\n",
    "#Fitting the model on the training data using grid search\n",
    "grid_search.fit(x_train, y_train)\n",
    "\n",
    "#Getting the best model with the optimized parameters\n",
    "best_svc = grid_search.best_estimator_\n",
    "\n",
    "#Printing the best hyperparameters selected for the best model\n",
    "print(\"Best Hyperparameters:\")\n",
    "print(grid_search.best_params_)"
   ]
  },
  {
   "cell_type": "code",
   "execution_count": 48,
   "id": "db0cb9a7",
   "metadata": {},
   "outputs": [
    {
     "name": "stdout",
     "output_type": "stream",
     "text": [
      "              precision    recall  f1-score   support\n",
      "\n",
      "           1       0.43      0.60      0.50         5\n",
      "           2       0.75      0.75      0.75         8\n",
      "           3       0.82      0.82      0.82        11\n",
      "           4       0.88      0.88      0.88         8\n",
      "           5       0.50      0.40      0.44         5\n",
      "           6       1.00      0.86      0.92         7\n",
      "\n",
      "    accuracy                           0.75        44\n",
      "   macro avg       0.73      0.72      0.72        44\n",
      "weighted avg       0.76      0.75      0.75        44\n",
      "\n",
      "CPU times: user 8.06 ms, sys: 20.9 ms, total: 29 ms\n",
      "Wall time: 75.3 ms\n"
     ]
    }
   ],
   "source": [
    "%%time\n",
    "#Using the best model to predict the labels using the test set\n",
    "svc_pred = best_svc.predict(x_test)\n",
    "print(classification_report(y_test, svc_pred))"
   ]
  },
  {
   "cell_type": "code",
   "execution_count": 42,
   "id": "8c5d178a",
   "metadata": {},
   "outputs": [
    {
     "data": {
      "image/png": "[encoded data removed]",
      "text/plain": [
       "<Figure size 1800x1000 with 2 Axes>"
      ]
     },
     "metadata": {},
     "output_type": "display_data"
    }
   ],
   "source": [
    "plot_confusion_matrix(y_test, svc_pred, \"Support Vector Classifier\")"
   ]
  },
  {
   "cell_type": "markdown",
   "id": "36e5dae4",
   "metadata": {},
   "source": [
    "## XGBoost Classifier"
   ]
  },
  {
   "cell_type": "code",
   "execution_count": 43,
   "id": "008add0d",
   "metadata": {},
   "outputs": [
    {
     "name": "stdout",
     "output_type": "stream",
     "text": [
      "Best Hyperparameters:\n",
      "{'learning_rate': 0.1, 'max_depth': 3}\n"
     ]
    }
   ],
   "source": [
    "#Initializing the LabelEncoder\n",
    "label_encoder = LabelEncoder()\n",
    "\n",
    "#Defining the parameter grid for grid search\n",
    "param_grid = {\n",
    "    'max_depth': [3, 5, 7],\n",
    "    'learning_rate': [0.1, 0.01, 0.001]\n",
    "}\n",
    "\n",
    "#Creating an XGBoost Classifier model instance\n",
    "xgb = XGBClassifier()\n",
    "\n",
    "#Creating a GridSearchCV instance with the XGBoost Classifier model and parameter grid\n",
    "grid_search = GridSearchCV(xgb, param_grid, cv=5, scoring=\"f1_macro\")\n",
    "\n",
    "#Fitting the model on the training data using grid search\n",
    "grid_search.fit(x_train, label_encoder.fit_transform(y_train))\n",
    "\n",
    "#Getting the best model with the optimized parameters\n",
    "best_xgb = grid_search.best_estimator_\n",
    "\n",
    "#Printing the best hyperparameters selected for the best model\n",
    "print(\"Best Hyperparameters:\")\n",
    "print(grid_search.best_params_)"
   ]
  },
  {
   "cell_type": "code",
   "execution_count": 44,
   "id": "59f9a4e4",
   "metadata": {},
   "outputs": [
    {
     "name": "stdout",
     "output_type": "stream",
     "text": [
      "              precision    recall  f1-score   support\n",
      "\n",
      "           0       1.00      1.00      1.00         5\n",
      "           1       0.70      0.88      0.78         8\n",
      "           2       0.86      0.55      0.67        11\n",
      "           3       1.00      0.88      0.93         8\n",
      "           4       0.71      1.00      0.83         5\n",
      "           5       0.62      0.71      0.67         7\n",
      "\n",
      "    accuracy                           0.80        44\n",
      "   macro avg       0.82      0.83      0.81        44\n",
      "weighted avg       0.82      0.80      0.79        44\n",
      "\n",
      "CPU times: user 52.9 ms, sys: 30.5 ms, total: 83.4 ms\n",
      "Wall time: 13.2 ms\n"
     ]
    }
   ],
   "source": [
    "%%time\n",
    "#Using the best model to predict the labels using the test set\n",
    "xgb_pred = best_xgb.predict(x_test)\n",
    "print(classification_report(label_encoder.fit_transform(y_test), xgb_pred))"
   ]
  },
  {
   "cell_type": "code",
   "execution_count": 45,
   "id": "26d70e94",
   "metadata": {},
   "outputs": [
    {
     "data": {
      "image/png": "[encoded data removed]",
      "text/plain": [
       "<Figure size 1800x1000 with 2 Axes>"
      ]
     },
     "metadata": {},
     "output_type": "display_data"
    }
   ],
   "source": [
    "plot_confusion_matrix(label_encoder.fit_transform(y_test), xgb_pred, \"XGB Classifier\")"
   ]
  },
  {
   "cell_type": "markdown",
   "id": "99976f3e",
   "metadata": {},
   "source": [
    "Random Forest Classifier selected as best model"
   ]
  },
  {
   "cell_type": "markdown",
   "id": "10210d5f",
   "metadata": {},
   "source": [
    "## Cross Validation - RFC Model"
   ]
  },
  {
   "cell_type": "code",
   "execution_count": 47,
   "id": "ca508879",
   "metadata": {},
   "outputs": [
    {
     "data": {
      "text/html": [
       "<div>\n",
       "<style scoped>\n",
       "    .dataframe tbody tr th:only-of-type {\n",
       "        vertical-align: middle;\n",
       "    }\n",
       "\n",
       "    .dataframe tbody tr th {\n",
       "        vertical-align: top;\n",
       "    }\n",
       "\n",
       "    .dataframe thead th {\n",
       "        text-align: right;\n",
       "    }\n",
       "</style>\n",
       "<table border=\"1\" class=\"dataframe\">\n",
       "  <thead>\n",
       "    <tr style=\"text-align: right;\">\n",
       "      <th></th>\n",
       "      <th>Classifier</th>\n",
       "      <th>Accuracy</th>\n",
       "      <th>Precision</th>\n",
       "      <th>Recall</th>\n",
       "      <th>F1</th>\n",
       "      <th>Root Mean Square Error</th>\n",
       "    </tr>\n",
       "  </thead>\n",
       "  <tbody>\n",
       "    <tr>\n",
       "      <th>0</th>\n",
       "      <td>RandomForestClassifier</td>\n",
       "      <td>0.912791</td>\n",
       "      <td>0.914111</td>\n",
       "      <td>0.912178</td>\n",
       "      <td>0.674444</td>\n",
       "      <td>0.867334</td>\n",
       "    </tr>\n",
       "  </tbody>\n",
       "</table>\n",
       "</div>"
      ],
      "text/plain": [
       "               Classifier  Accuracy  Precision    Recall        F1  \\\n",
       "0  RandomForestClassifier  0.912791   0.914111  0.912178  0.674444   \n",
       "\n",
       "   Root Mean Square Error  \n",
       "0                0.867334  "
      ]
     },
     "metadata": {},
     "output_type": "display_data"
    }
   ],
   "source": [
    "classifiers = [RandomForestClassifier(max_depth=None, n_estimators=300)]\n",
    "scores = []\n",
    "for classifier in classifiers:\n",
    "    y_pred = cross_val_predict(classifier, x_train, y_train, cv=5)\n",
    "    #Cross validation accuracy\n",
    "    accuracy = accuracy_score(y_train, y_pred)\n",
    "\n",
    "    #Calculating mean square errors\n",
    "    mse = -cross_val_score(classifier, x_train, y_train, scoring=\"neg_mean_squared_error\", cv=5)\n",
    "    rmse = np.sqrt(mse.mean())\n",
    "\n",
    "    #F1 score\n",
    "    f1 = cross_val_score(classifier, x_test, y_test, scoring=\"f1_macro\", cv=5).mean()\n",
    "\n",
    "    #Precision and recall\n",
    "    precision = precision_score(y_train, y_pred, average='macro')\n",
    "    recall = recall_score(y_train, y_pred, average='macro')\n",
    "\n",
    "    scores.append([classifier.__class__.__name__, accuracy, precision, recall, f1, rmse])\n",
    "\n",
    "#Create a DataFrame to store the scores\n",
    "scores_dataFrame = pd.DataFrame(columns=[\"Classifier\", \"Accuracy\", \"Precision\", \"Recall\", \"F1\", \"Root Mean Square Error\"],\n",
    "                                data=scores)\n",
    "display(scores_dataFrame)"
   ]
  },
  {
   "cell_type": "markdown",
   "id": "b01bbbaa",
   "metadata": {},
   "source": [
    "---"
   ]
  }
 ],
 "metadata": {
  "kernelspec": {
   "display_name": "Python 3 (ipykernel)",
   "language": "python",
   "name": "python3"
  },
  "language_info": {
   "codemirror_mode": {
    "name": "ipython",
    "version": 3
   },
   "file_extension": ".py",
   "mimetype": "text/x-python",
   "name": "python",
   "nbconvert_exporter": "python",
   "pygments_lexer": "ipython3",
   "version": "3.9.16"
  }
 },
 "nbformat": 4,
 "nbformat_minor": 5
}
